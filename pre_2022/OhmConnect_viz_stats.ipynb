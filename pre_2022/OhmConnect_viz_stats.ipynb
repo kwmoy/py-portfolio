{
 "cells": [
  {
   "cell_type": "markdown",
   "metadata": {},
   "source": [
    "# Data Summary Visualizations, OhmConnect Take Home Q 2b\n",
    "<img src=\"https://login.ohmconnect.com/images/ohm/ohmconnect-logo-ui3.png\" width=\"200\">\n",
    "\n",
    "| Who | What | Contact |\n",
    "| --- | --- | --- |\n",
    "| Kevin Moy | Notebook Owner | [<img src=\"https://upload.wikimedia.org/wikipedia/commons/thumb/c/c9/Linkedin.svg/768px-Linkedin.svg.png\" width=\"30\">](https://www.linkedin.com/in/kevin-moy/) [<img src=\"https://upload.wikimedia.org/wikipedia/commons/thumb/2/29/GitHub_logo_2013.svg/800px-GitHub_logo_2013.svg.png\" width=\"60\">](https://github.com/kwmoy) |\n",
    "\n"
   ]
  },
  {
   "cell_type": "markdown",
   "metadata": {},
   "source": [
    "## Visualization 1: Boxplot distributions of attribute combinations – How do the attributes affect performance across events? (seaborn)"
   ]
  },
  {
   "cell_type": "code",
   "execution_count": 1,
   "metadata": {},
   "outputs": [],
   "source": [
    "import pandas as pd\n",
    "import matplotlib.pyplot as plt\n",
    "import numpy as np\n",
    "import seaborn as sns\n",
    "\n",
    "files = ['event_performance_clean.csv','users.csv']"
   ]
  },
  {
   "cell_type": "code",
   "execution_count": 2,
   "metadata": {},
   "outputs": [],
   "source": [
    "df_event_p = pd.read_csv(files[0])\n",
    "df_users = pd.read_csv(files[1])"
   ]
  },
  {
   "cell_type": "code",
   "execution_count": 3,
   "metadata": {},
   "outputs": [
    {
     "data": {
      "text/html": [
       "<div>\n",
       "<style scoped>\n",
       "    .dataframe tbody tr th:only-of-type {\n",
       "        vertical-align: middle;\n",
       "    }\n",
       "\n",
       "    .dataframe tbody tr th {\n",
       "        vertical-align: top;\n",
       "    }\n",
       "\n",
       "    .dataframe thead th {\n",
       "        text-align: right;\n",
       "    }\n",
       "</style>\n",
       "<table border=\"1\" class=\"dataframe\">\n",
       "  <thead>\n",
       "    <tr style=\"text-align: right;\">\n",
       "      <th></th>\n",
       "      <th>userid</th>\n",
       "      <th>date</th>\n",
       "      <th>hour</th>\n",
       "      <th>points</th>\n",
       "      <th>weather</th>\n",
       "      <th>attribute1</th>\n",
       "      <th>attribute2</th>\n",
       "    </tr>\n",
       "  </thead>\n",
       "  <tbody>\n",
       "    <tr>\n",
       "      <th>0</th>\n",
       "      <td>4297f22d-1889-4b5b-80bb-cdaa6a8809bd</td>\n",
       "      <td>2019-09-13</td>\n",
       "      <td>19</td>\n",
       "      <td>-235</td>\n",
       "      <td>temperate</td>\n",
       "      <td>0</td>\n",
       "      <td>C</td>\n",
       "    </tr>\n",
       "    <tr>\n",
       "      <th>1</th>\n",
       "      <td>f072fcde-6466-4e10-b17c-de169c11fa1f</td>\n",
       "      <td>2019-09-13</td>\n",
       "      <td>20</td>\n",
       "      <td>-368</td>\n",
       "      <td>temperate</td>\n",
       "      <td>0</td>\n",
       "      <td>A</td>\n",
       "    </tr>\n",
       "    <tr>\n",
       "      <th>2</th>\n",
       "      <td>be5488aa-32c4-4897-a081-13de734c3a80</td>\n",
       "      <td>2019-09-13</td>\n",
       "      <td>19</td>\n",
       "      <td>121</td>\n",
       "      <td>temperate</td>\n",
       "      <td>0</td>\n",
       "      <td>B</td>\n",
       "    </tr>\n",
       "    <tr>\n",
       "      <th>3</th>\n",
       "      <td>9c6389a8-d335-4ca4-bdac-deac9b19f44d</td>\n",
       "      <td>2019-09-21</td>\n",
       "      <td>17</td>\n",
       "      <td>-119</td>\n",
       "      <td>temperate</td>\n",
       "      <td>0</td>\n",
       "      <td>A</td>\n",
       "    </tr>\n",
       "    <tr>\n",
       "      <th>4</th>\n",
       "      <td>4768df1a-5c78-44b4-b4cf-a46dfaf41d9c</td>\n",
       "      <td>2019-09-24</td>\n",
       "      <td>20</td>\n",
       "      <td>158</td>\n",
       "      <td>temperate</td>\n",
       "      <td>0</td>\n",
       "      <td>A</td>\n",
       "    </tr>\n",
       "  </tbody>\n",
       "</table>\n",
       "</div>"
      ],
      "text/plain": [
       "                                 userid        date  hour  points    weather  \\\n",
       "0  4297f22d-1889-4b5b-80bb-cdaa6a8809bd  2019-09-13    19    -235  temperate   \n",
       "1  f072fcde-6466-4e10-b17c-de169c11fa1f  2019-09-13    20    -368  temperate   \n",
       "2  be5488aa-32c4-4897-a081-13de734c3a80  2019-09-13    19     121  temperate   \n",
       "3  9c6389a8-d335-4ca4-bdac-deac9b19f44d  2019-09-21    17    -119  temperate   \n",
       "4  4768df1a-5c78-44b4-b4cf-a46dfaf41d9c  2019-09-24    20     158  temperate   \n",
       "\n",
       "   attribute1 attribute2  \n",
       "0           0          C  \n",
       "1           0          A  \n",
       "2           0          B  \n",
       "3           0          A  \n",
       "4           0          A  "
      ]
     },
     "execution_count": 3,
     "metadata": {},
     "output_type": "execute_result"
    }
   ],
   "source": [
    "# Join both datasets in one dataframe\n",
    "\n",
    "df_joined = df_event_p.join(df_users.set_index('userid'), on='userid')\n",
    "df_joined.head()"
   ]
  },
  {
   "cell_type": "code",
   "execution_count": 38,
   "metadata": {},
   "outputs": [
    {
     "data": {
      "text/plain": [
       "Text(0.5, 1.0, 'Points Distributions by Attribute1')"
      ]
     },
     "execution_count": 38,
     "metadata": {},
     "output_type": "execute_result"
    },
    {
     "data": {
      "image/png": "[encoded data removed]",
      "text/plain": [
       "<Figure size 432x288 with 1 Axes>"
      ]
     },
     "metadata": {
      "needs_background": "light"
     },
     "output_type": "display_data"
    }
   ],
   "source": [
    "# Create visualizations for attribute1\n",
    "\n",
    "sns.boxplot(x='attribute1',y='points',data=df_joined).set_title('Points Distributions by Attribute1')"
   ]
  },
  {
   "cell_type": "code",
   "execution_count": 39,
   "metadata": {},
   "outputs": [
    {
     "data": {
      "text/plain": [
       "Text(0.5, 1.0, 'Point Distributions by Attribute2')"
      ]
     },
     "execution_count": 39,
     "metadata": {},
     "output_type": "execute_result"
    },
    {
     "data": {
      "image/png": "[encoded data removed]",
      "text/plain": [
       "<Figure size 432x288 with 1 Axes>"
      ]
     },
     "metadata": {
      "needs_background": "light"
     },
     "output_type": "display_data"
    }
   ],
   "source": [
    "# Create visualizations for attribute2\n",
    "\n",
    "sns.boxplot(x='attribute2',y='points',data=df_joined).set_title('Point Distributions by Attribute2')"
   ]
  },
  {
   "cell_type": "markdown",
   "metadata": {},
   "source": [
    "## Visualization 2: Average performance and total performance across the year (vs San Jose weather across year if I have time) (line plot, mpl)"
   ]
  },
  {
   "cell_type": "code",
   "execution_count": 13,
   "metadata": {},
   "outputs": [
    {
     "data": {
      "text/html": [
       "<div>\n",
       "<style scoped>\n",
       "    .dataframe tbody tr th:only-of-type {\n",
       "        vertical-align: middle;\n",
       "    }\n",
       "\n",
       "    .dataframe tbody tr th {\n",
       "        vertical-align: top;\n",
       "    }\n",
       "\n",
       "    .dataframe thead th {\n",
       "        text-align: right;\n",
       "    }\n",
       "</style>\n",
       "<table border=\"1\" class=\"dataframe\">\n",
       "  <thead>\n",
       "    <tr style=\"text-align: right;\">\n",
       "      <th></th>\n",
       "      <th>userid</th>\n",
       "      <th>date</th>\n",
       "      <th>hour</th>\n",
       "      <th>points</th>\n",
       "      <th>weather</th>\n",
       "      <th>attribute1</th>\n",
       "      <th>attribute2</th>\n",
       "      <th>month</th>\n",
       "    </tr>\n",
       "  </thead>\n",
       "  <tbody>\n",
       "    <tr>\n",
       "      <th>0</th>\n",
       "      <td>4297f22d-1889-4b5b-80bb-cdaa6a8809bd</td>\n",
       "      <td>2019-09-13</td>\n",
       "      <td>19</td>\n",
       "      <td>-235</td>\n",
       "      <td>temperate</td>\n",
       "      <td>0</td>\n",
       "      <td>C</td>\n",
       "      <td>9</td>\n",
       "    </tr>\n",
       "    <tr>\n",
       "      <th>1</th>\n",
       "      <td>f072fcde-6466-4e10-b17c-de169c11fa1f</td>\n",
       "      <td>2019-09-13</td>\n",
       "      <td>20</td>\n",
       "      <td>-368</td>\n",
       "      <td>temperate</td>\n",
       "      <td>0</td>\n",
       "      <td>A</td>\n",
       "      <td>9</td>\n",
       "    </tr>\n",
       "    <tr>\n",
       "      <th>2</th>\n",
       "      <td>be5488aa-32c4-4897-a081-13de734c3a80</td>\n",
       "      <td>2019-09-13</td>\n",
       "      <td>19</td>\n",
       "      <td>121</td>\n",
       "      <td>temperate</td>\n",
       "      <td>0</td>\n",
       "      <td>B</td>\n",
       "      <td>9</td>\n",
       "    </tr>\n",
       "    <tr>\n",
       "      <th>3</th>\n",
       "      <td>9c6389a8-d335-4ca4-bdac-deac9b19f44d</td>\n",
       "      <td>2019-09-21</td>\n",
       "      <td>17</td>\n",
       "      <td>-119</td>\n",
       "      <td>temperate</td>\n",
       "      <td>0</td>\n",
       "      <td>A</td>\n",
       "      <td>9</td>\n",
       "    </tr>\n",
       "    <tr>\n",
       "      <th>4</th>\n",
       "      <td>4768df1a-5c78-44b4-b4cf-a46dfaf41d9c</td>\n",
       "      <td>2019-09-24</td>\n",
       "      <td>20</td>\n",
       "      <td>158</td>\n",
       "      <td>temperate</td>\n",
       "      <td>0</td>\n",
       "      <td>A</td>\n",
       "      <td>9</td>\n",
       "    </tr>\n",
       "  </tbody>\n",
       "</table>\n",
       "</div>"
      ],
      "text/plain": [
       "                                 userid        date  hour  points    weather  \\\n",
       "0  4297f22d-1889-4b5b-80bb-cdaa6a8809bd  2019-09-13    19    -235  temperate   \n",
       "1  f072fcde-6466-4e10-b17c-de169c11fa1f  2019-09-13    20    -368  temperate   \n",
       "2  be5488aa-32c4-4897-a081-13de734c3a80  2019-09-13    19     121  temperate   \n",
       "3  9c6389a8-d335-4ca4-bdac-deac9b19f44d  2019-09-21    17    -119  temperate   \n",
       "4  4768df1a-5c78-44b4-b4cf-a46dfaf41d9c  2019-09-24    20     158  temperate   \n",
       "\n",
       "   attribute1 attribute2  month  \n",
       "0           0          C      9  \n",
       "1           0          A      9  \n",
       "2           0          B      9  \n",
       "3           0          A      9  \n",
       "4           0          A      9  "
      ]
     },
     "execution_count": 13,
     "metadata": {},
     "output_type": "execute_result"
    }
   ],
   "source": [
    "# Use a groupby to find average and total performance\n",
    "df_joined['month'] = pd.DatetimeIndex(df_joined['date']).month\n",
    "df_joined.head()"
   ]
  },
  {
   "cell_type": "code",
   "execution_count": 27,
   "metadata": {},
   "outputs": [
    {
     "data": {
      "text/html": [
       "<div>\n",
       "<style scoped>\n",
       "    .dataframe tbody tr th:only-of-type {\n",
       "        vertical-align: middle;\n",
       "    }\n",
       "\n",
       "    .dataframe tbody tr th {\n",
       "        vertical-align: top;\n",
       "    }\n",
       "\n",
       "    .dataframe thead th {\n",
       "        text-align: right;\n",
       "    }\n",
       "</style>\n",
       "<table border=\"1\" class=\"dataframe\">\n",
       "  <thead>\n",
       "    <tr style=\"text-align: right;\">\n",
       "      <th></th>\n",
       "      <th>month</th>\n",
       "      <th>points_mean</th>\n",
       "      <th>points_std</th>\n",
       "    </tr>\n",
       "  </thead>\n",
       "  <tbody>\n",
       "    <tr>\n",
       "      <th>0</th>\n",
       "      <td>1</td>\n",
       "      <td>135.427200</td>\n",
       "      <td>846.532574</td>\n",
       "    </tr>\n",
       "    <tr>\n",
       "      <th>1</th>\n",
       "      <td>2</td>\n",
       "      <td>202.258466</td>\n",
       "      <td>800.776565</td>\n",
       "    </tr>\n",
       "    <tr>\n",
       "      <th>2</th>\n",
       "      <td>3</td>\n",
       "      <td>183.511857</td>\n",
       "      <td>678.758845</td>\n",
       "    </tr>\n",
       "    <tr>\n",
       "      <th>3</th>\n",
       "      <td>4</td>\n",
       "      <td>165.414551</td>\n",
       "      <td>757.708374</td>\n",
       "    </tr>\n",
       "    <tr>\n",
       "      <th>4</th>\n",
       "      <td>5</td>\n",
       "      <td>194.357934</td>\n",
       "      <td>719.893629</td>\n",
       "    </tr>\n",
       "  </tbody>\n",
       "</table>\n",
       "</div>"
      ],
      "text/plain": [
       "   month  points_mean  points_std\n",
       "0      1   135.427200  846.532574\n",
       "1      2   202.258466  800.776565\n",
       "2      3   183.511857  678.758845\n",
       "3      4   165.414551  757.708374\n",
       "4      5   194.357934  719.893629"
      ]
     },
     "execution_count": 27,
     "metadata": {},
     "output_type": "execute_result"
    }
   ],
   "source": [
    "# Summarize data by month\n",
    "\n",
    "df_summarized = df_joined.groupby(by='month').agg({'points': ['mean','std']})\n",
    "df_summarized.columns = ['points_mean','points_std']\n",
    "df_summarized.reset_index(inplace=True)\n",
    "df_summarized.head()\n",
    "\n",
    "\n"
   ]
  },
  {
   "cell_type": "code",
   "execution_count": 33,
   "metadata": {},
   "outputs": [
    {
     "data": {
      "image/png": "[encoded data removed]",
      "text/plain": [
       "<Figure size 432x288 with 1 Axes>"
      ]
     },
     "metadata": {
      "needs_background": "light"
     },
     "output_type": "display_data"
    }
   ],
   "source": [
    "# Plot attribute means by month!\n",
    "\n",
    "plt.plot(df_summarized['month'],df_summarized['points_mean'],label='points mean')\n",
    "plt.plot(df_summarized['month'],df_summarized['points_std'],label='standard deviation')\n",
    "plt.xlabel('Month Number')\n",
    "plt.ylabel('Points')\n",
    "plt.title('Variation of Average Points and StdDev Across Months')\n",
    "plt.legend()\n",
    "plt.show()"
   ]
  },
  {
   "cell_type": "markdown",
   "metadata": {},
   "source": [
    "## Visualization 3: Hour effect on willingness to act in event (mean and stdev) (pandas and mpl)"
   ]
  },
  {
   "cell_type": "code",
   "execution_count": 34,
   "metadata": {},
   "outputs": [
    {
     "data": {
      "text/html": [
       "<div>\n",
       "<style scoped>\n",
       "    .dataframe tbody tr th:only-of-type {\n",
       "        vertical-align: middle;\n",
       "    }\n",
       "\n",
       "    .dataframe tbody tr th {\n",
       "        vertical-align: top;\n",
       "    }\n",
       "\n",
       "    .dataframe thead th {\n",
       "        text-align: right;\n",
       "    }\n",
       "</style>\n",
       "<table border=\"1\" class=\"dataframe\">\n",
       "  <thead>\n",
       "    <tr style=\"text-align: right;\">\n",
       "      <th></th>\n",
       "      <th>hour</th>\n",
       "      <th>points_mean</th>\n",
       "      <th>points_std</th>\n",
       "    </tr>\n",
       "  </thead>\n",
       "  <tbody>\n",
       "    <tr>\n",
       "      <th>0</th>\n",
       "      <td>16</td>\n",
       "      <td>233.945652</td>\n",
       "      <td>541.054018</td>\n",
       "    </tr>\n",
       "    <tr>\n",
       "      <th>1</th>\n",
       "      <td>17</td>\n",
       "      <td>228.271053</td>\n",
       "      <td>1094.012924</td>\n",
       "    </tr>\n",
       "    <tr>\n",
       "      <th>2</th>\n",
       "      <td>18</td>\n",
       "      <td>261.563441</td>\n",
       "      <td>1061.598200</td>\n",
       "    </tr>\n",
       "    <tr>\n",
       "      <th>3</th>\n",
       "      <td>19</td>\n",
       "      <td>191.125916</td>\n",
       "      <td>921.259961</td>\n",
       "    </tr>\n",
       "    <tr>\n",
       "      <th>4</th>\n",
       "      <td>20</td>\n",
       "      <td>156.091521</td>\n",
       "      <td>842.684102</td>\n",
       "    </tr>\n",
       "  </tbody>\n",
       "</table>\n",
       "</div>"
      ],
      "text/plain": [
       "   hour  points_mean   points_std\n",
       "0    16   233.945652   541.054018\n",
       "1    17   228.271053  1094.012924\n",
       "2    18   261.563441  1061.598200\n",
       "3    19   191.125916   921.259961\n",
       "4    20   156.091521   842.684102"
      ]
     },
     "execution_count": 34,
     "metadata": {},
     "output_type": "execute_result"
    }
   ],
   "source": [
    "# Summarize data by hour\n",
    "\n",
    "df_summarized_hour = df_joined.groupby(by='hour').agg({'points': ['mean','std']})\n",
    "df_summarized_hour.columns = ['points_mean','points_std']\n",
    "df_summarized_hour.reset_index(inplace=True)\n",
    "df_summarized_hour.head()\n",
    "\n",
    "\n"
   ]
  },
  {
   "cell_type": "code",
   "execution_count": 53,
   "metadata": {
    "scrolled": true
   },
   "outputs": [
    {
     "name": "stderr",
     "output_type": "stream",
     "text": [
      "C:\\Users\\USER\\AppData\\Roaming\\Python\\Python37\\site-packages\\matplotlib\\cbook\\__init__.py:1402: FutureWarning: Support for multi-dimensional indexing (e.g. `obj[:, None]`) is deprecated and will be removed in a future version.  Convert to a numpy array before indexing instead.\n",
      "  x[:, None]\n",
      "C:\\Users\\USER\\AppData\\Roaming\\Python\\Python37\\site-packages\\matplotlib\\axes\\_base.py:276: FutureWarning: Support for multi-dimensional indexing (e.g. `obj[:, None]`) is deprecated and will be removed in a future version.  Convert to a numpy array before indexing instead.\n",
      "  x = x[:, np.newaxis]\n",
      "C:\\Users\\USER\\AppData\\Roaming\\Python\\Python37\\site-packages\\matplotlib\\axes\\_base.py:278: FutureWarning: Support for multi-dimensional indexing (e.g. `obj[:, None]`) is deprecated and will be removed in a future version.  Convert to a numpy array before indexing instead.\n",
      "  y = y[:, np.newaxis]\n"
     ]
    },
    {
     "data": {
      "image/png": "[encoded data removed]",
      "text/plain": [
       "<Figure size 432x288 with 1 Axes>"
      ]
     },
     "metadata": {
      "needs_background": "light"
     },
     "output_type": "display_data"
    }
   ],
   "source": [
    "# Plot attribute means by hour!\n",
    "\n",
    "plt.plot(df_summarized_hour['hour'],df_summarized_hour['points_mean'],label='points mean')\n",
    "plt.plot(df_summarized_hour['hour'],df_summarized_hour['points_std'],label='standard deviation')\n",
    "plt.xlabel('Hour Number')\n",
    "plt.ylabel('Points')\n",
    "plt.title('Variation of Average Points and StdDev Across Hours')\n",
    "plt.legend()\n",
    "plt.show()"
   ]
  },
  {
   "cell_type": "markdown",
   "metadata": {},
   "source": [
    "# Statistical Test for Correlation, OhmConnect Q 2ei\n",
    "<img src=\"https://login.ohmconnect.com/images/ohm/ohmconnect-logo-ui3.png\" width=\"200\">"
   ]
  },
  {
   "cell_type": "code",
   "execution_count": 45,
   "metadata": {},
   "outputs": [
    {
     "data": {
      "text/html": [
       "<div>\n",
       "<style scoped>\n",
       "    .dataframe tbody tr th:only-of-type {\n",
       "        vertical-align: middle;\n",
       "    }\n",
       "\n",
       "    .dataframe tbody tr th {\n",
       "        vertical-align: top;\n",
       "    }\n",
       "\n",
       "    .dataframe thead th {\n",
       "        text-align: right;\n",
       "    }\n",
       "</style>\n",
       "<table border=\"1\" class=\"dataframe\">\n",
       "  <thead>\n",
       "    <tr style=\"text-align: right;\">\n",
       "      <th></th>\n",
       "      <th>userid</th>\n",
       "      <th>date</th>\n",
       "      <th>hour</th>\n",
       "      <th>points</th>\n",
       "      <th>weather</th>\n",
       "      <th>attribute1</th>\n",
       "      <th>attribute2</th>\n",
       "      <th>month</th>\n",
       "      <th>attribute2_A</th>\n",
       "      <th>attribute2_B</th>\n",
       "      <th>attribute2_C</th>\n",
       "    </tr>\n",
       "  </thead>\n",
       "  <tbody>\n",
       "    <tr>\n",
       "      <th>0</th>\n",
       "      <td>4297f22d-1889-4b5b-80bb-cdaa6a8809bd</td>\n",
       "      <td>2019-09-13</td>\n",
       "      <td>19</td>\n",
       "      <td>-235</td>\n",
       "      <td>temperate</td>\n",
       "      <td>0</td>\n",
       "      <td>C</td>\n",
       "      <td>9</td>\n",
       "      <td>0</td>\n",
       "      <td>0</td>\n",
       "      <td>1</td>\n",
       "    </tr>\n",
       "    <tr>\n",
       "      <th>1</th>\n",
       "      <td>f072fcde-6466-4e10-b17c-de169c11fa1f</td>\n",
       "      <td>2019-09-13</td>\n",
       "      <td>20</td>\n",
       "      <td>-368</td>\n",
       "      <td>temperate</td>\n",
       "      <td>0</td>\n",
       "      <td>A</td>\n",
       "      <td>9</td>\n",
       "      <td>1</td>\n",
       "      <td>0</td>\n",
       "      <td>0</td>\n",
       "    </tr>\n",
       "    <tr>\n",
       "      <th>2</th>\n",
       "      <td>be5488aa-32c4-4897-a081-13de734c3a80</td>\n",
       "      <td>2019-09-13</td>\n",
       "      <td>19</td>\n",
       "      <td>121</td>\n",
       "      <td>temperate</td>\n",
       "      <td>0</td>\n",
       "      <td>B</td>\n",
       "      <td>9</td>\n",
       "      <td>0</td>\n",
       "      <td>1</td>\n",
       "      <td>0</td>\n",
       "    </tr>\n",
       "    <tr>\n",
       "      <th>3</th>\n",
       "      <td>9c6389a8-d335-4ca4-bdac-deac9b19f44d</td>\n",
       "      <td>2019-09-21</td>\n",
       "      <td>17</td>\n",
       "      <td>-119</td>\n",
       "      <td>temperate</td>\n",
       "      <td>0</td>\n",
       "      <td>A</td>\n",
       "      <td>9</td>\n",
       "      <td>1</td>\n",
       "      <td>0</td>\n",
       "      <td>0</td>\n",
       "    </tr>\n",
       "    <tr>\n",
       "      <th>4</th>\n",
       "      <td>4768df1a-5c78-44b4-b4cf-a46dfaf41d9c</td>\n",
       "      <td>2019-09-24</td>\n",
       "      <td>20</td>\n",
       "      <td>158</td>\n",
       "      <td>temperate</td>\n",
       "      <td>0</td>\n",
       "      <td>A</td>\n",
       "      <td>9</td>\n",
       "      <td>1</td>\n",
       "      <td>0</td>\n",
       "      <td>0</td>\n",
       "    </tr>\n",
       "  </tbody>\n",
       "</table>\n",
       "</div>"
      ],
      "text/plain": [
       "                                 userid        date  hour  points    weather  \\\n",
       "0  4297f22d-1889-4b5b-80bb-cdaa6a8809bd  2019-09-13    19    -235  temperate   \n",
       "1  f072fcde-6466-4e10-b17c-de169c11fa1f  2019-09-13    20    -368  temperate   \n",
       "2  be5488aa-32c4-4897-a081-13de734c3a80  2019-09-13    19     121  temperate   \n",
       "3  9c6389a8-d335-4ca4-bdac-deac9b19f44d  2019-09-21    17    -119  temperate   \n",
       "4  4768df1a-5c78-44b4-b4cf-a46dfaf41d9c  2019-09-24    20     158  temperate   \n",
       "\n",
       "   attribute1 attribute2  month  attribute2_A  attribute2_B  attribute2_C  \n",
       "0           0          C      9             0             0             1  \n",
       "1           0          A      9             1             0             0  \n",
       "2           0          B      9             0             1             0  \n",
       "3           0          A      9             1             0             0  \n",
       "4           0          A      9             1             0             0  "
      ]
     },
     "execution_count": 45,
     "metadata": {},
     "output_type": "execute_result"
    }
   ],
   "source": [
    "# Create Joined dataframe with attribute2 as dummy variables\n",
    "\n",
    "df_dummies = pd.get_dummies(df_joined['attribute2'],prefix='attribute2')\n",
    "df_dummies.head()\n",
    "df_joined_dummy = df_joined.join(df_dummies)\n",
    "df_joined_dummy.head()\n"
   ]
  },
  {
   "cell_type": "code",
   "execution_count": 52,
   "metadata": {},
   "outputs": [
    {
     "data": {
      "text/html": [
       "<div>\n",
       "<style scoped>\n",
       "    .dataframe tbody tr th:only-of-type {\n",
       "        vertical-align: middle;\n",
       "    }\n",
       "\n",
       "    .dataframe tbody tr th {\n",
       "        vertical-align: top;\n",
       "    }\n",
       "\n",
       "    .dataframe thead th {\n",
       "        text-align: right;\n",
       "    }\n",
       "</style>\n",
       "<table border=\"1\" class=\"dataframe\">\n",
       "  <thead>\n",
       "    <tr style=\"text-align: right;\">\n",
       "      <th></th>\n",
       "      <th>sum_sq</th>\n",
       "      <th>df</th>\n",
       "      <th>F</th>\n",
       "      <th>PR(&gt;F)</th>\n",
       "    </tr>\n",
       "  </thead>\n",
       "  <tbody>\n",
       "    <tr>\n",
       "      <th>C(attribute1)</th>\n",
       "      <td>2.151781e+08</td>\n",
       "      <td>1.0</td>\n",
       "      <td>271.653193</td>\n",
       "      <td>8.144083e-61</td>\n",
       "    </tr>\n",
       "    <tr>\n",
       "      <th>C(attribute2_A)</th>\n",
       "      <td>3.160654e+05</td>\n",
       "      <td>1.0</td>\n",
       "      <td>0.399019</td>\n",
       "      <td>5.276002e-01</td>\n",
       "    </tr>\n",
       "    <tr>\n",
       "      <th>C(attribute2_C)</th>\n",
       "      <td>2.139447e+09</td>\n",
       "      <td>1.0</td>\n",
       "      <td>2700.960785</td>\n",
       "      <td>0.000000e+00</td>\n",
       "    </tr>\n",
       "    <tr>\n",
       "      <th>Residual</th>\n",
       "      <td>2.942278e+10</td>\n",
       "      <td>37145.0</td>\n",
       "      <td>NaN</td>\n",
       "      <td>NaN</td>\n",
       "    </tr>\n",
       "  </tbody>\n",
       "</table>\n",
       "</div>"
      ],
      "text/plain": [
       "                       sum_sq       df            F        PR(>F)\n",
       "C(attribute1)    2.151781e+08      1.0   271.653193  8.144083e-61\n",
       "C(attribute2_A)  3.160654e+05      1.0     0.399019  5.276002e-01\n",
       "C(attribute2_C)  2.139447e+09      1.0  2700.960785  0.000000e+00\n",
       "Residual         2.942278e+10  37145.0          NaN           NaN"
      ]
     },
     "execution_count": 52,
     "metadata": {},
     "output_type": "execute_result"
    }
   ],
   "source": [
    "import statsmodels.api as sm\n",
    "from statsmodels.formula.api import ols\n",
    "\n",
    "# perform two-way ANOVA\n",
    "model = ols('points ~ C(attribute1) + C(attribute2_A) + C(attribute2_C)', data=df_joined_dummy).fit()\n",
    "sm.stats.anova_lm(model, typ=2)"
   ]
  },
  {
   "cell_type": "code",
   "execution_count": null,
   "metadata": {},
   "outputs": [],
   "source": []
  }
 ],
 "metadata": {
  "kernelspec": {
   "display_name": "Python 3",
   "language": "python",
   "name": "python3"
  },
  "language_info": {
   "codemirror_mode": {
    "name": "ipython",
    "version": 3
   },
   "file_extension": ".py",
   "mimetype": "text/x-python",
   "name": "python",
   "nbconvert_exporter": "python",
   "pygments_lexer": "ipython3",
   "version": "3.7.7"
  }
 },
 "nbformat": 4,
 "nbformat_minor": 4
}
